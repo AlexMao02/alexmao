{
  "nbformat": 4,
  "nbformat_minor": 0,
  "metadata": {
    "colab": {
      "provenance": []
    },
    "kernelspec": {
      "name": "python3",
      "display_name": "Python 3"
    },
    "language_info": {
      "name": "python"
    }
  },
  "cells": [
    {
      "cell_type": "code",
      "execution_count": 6,
      "metadata": {
        "id": "l_mOca-Q9Zbp"
      },
      "outputs": [],
      "source": [
        "from MultipleCalculus import *"
      ]
    },
    {
      "cell_type": "code",
      "source": [
        "f=x*y\n",
        "X=[x,y]\n",
        "XR=[[1,2],[x,2*x]]\n",
        "MultipleIntegral(f,X,XR)"
      ],
      "metadata": {
        "id": "9SSlq7Ge9b1d",
        "colab": {
          "base_uri": "https://localhost:8080/",
          "height": 54
        },
        "outputId": "12b7679c-f9a4-4108-dcf7-003c6bee4f64"
      },
      "execution_count": 7,
      "outputs": [
        {
          "output_type": "execute_result",
          "data": {
            "text/plain": [
              "<IPython.core.display.Latex object>"
            ],
            "text/latex": "\\begin{eqnarray}\\iint_{\\Large{\\mathbf{V}}=\\left\\{\\large{\\begin{array}{l} 1 \\le x \\le 2,\\cr x \\le y \\le 2 x,\\cr\\end{array}}\\right\\}} \\color{brown}{x y} dV&=& \\iint_{\\Large{\\mathbf{V}}} \\color{brown}{x y}  d x  d y  \\cr \\color{blue}{\\text{Fubini's Theorem}}&=&\\int_{1}^{2}d{x}\\int_{x}^{2 x} \\color{brown}{x y}d{y}\\cr &=&\\int_{1}^{2} \\left.\\color{brown}{\\frac{x y^{2}}{2}} \\right|_{x}^{2 x} d{x}\\cr&=&\\int_{1}^{2} \\color{brown}{\\frac{3 x^{3}}{2}}d{x}\\cr &=&\\left. \\color{brown}{\\frac{3 x^{4}}{8}} \\right|_{1}^{2}\\cr&=&5.625\\end{eqnarray}"
          },
          "metadata": {},
          "execution_count": 7
        }
      ]
    },
    {
      "cell_type": "code",
      "source": [
        "f=exp(-x**2)\n",
        "X=[x,y]\n",
        "XR=[[0,1],[0,x]]\n",
        "MultipleIntegral(f,X,XR)"
      ],
      "metadata": {
        "id": "2VfG8RLi9b4c",
        "colab": {
          "base_uri": "https://localhost:8080/",
          "height": 54
        },
        "outputId": "56ffad06-fa25-4482-cf37-a4dbcfacb5ee"
      },
      "execution_count": 8,
      "outputs": [
        {
          "output_type": "execute_result",
          "data": {
            "text/plain": [
              "<IPython.core.display.Latex object>"
            ],
            "text/latex": "\\begin{eqnarray}\\iint_{\\Large{\\mathbf{V}}=\\left\\{\\large{\\begin{array}{l} 0 \\le x \\le 1,\\cr 0 \\le y \\le x,\\cr\\end{array}}\\right\\}} \\color{brown}{e^{- x^{2}}} dV&=& \\iint_{\\Large{\\mathbf{V}}} \\color{brown}{e^{- x^{2}}}  d x  d y  \\cr \\color{blue}{\\text{Fubini's Theorem}}&=&\\int_{0}^{1}d{x}\\int_{0}^{x} \\color{brown}{e^{- x^{2}}}d{y}\\cr &=&\\int_{0}^{1} \\left.\\color{brown}{y e^{- x^{2}}} \\right|_{0}^{x} d{x}\\cr&=&\\int_{0}^{1} \\color{brown}{x e^{- x^{2}}}d{x}\\cr &=&\\left. \\color{brown}{- \\frac{e^{- x^{2}}}{2}} \\right|_{0}^{1}\\cr&=&0.5 - \\frac{1}{2 e}\\end{eqnarray}"
          },
          "metadata": {},
          "execution_count": 8
        }
      ]
    },
    {
      "cell_type": "code",
      "source": [
        "f=exp(-x**2)\n",
        "X=[x,y]\n",
        "XR=[[0,1],[0,x]]\n",
        "MultipleIntegral(f,X,XR)"
      ],
      "metadata": {
        "id": "4w-rHL179b7f",
        "colab": {
          "base_uri": "https://localhost:8080/",
          "height": 54
        },
        "outputId": "d8e4ea31-2ff2-46fb-d568-e285554f399c"
      },
      "execution_count": 9,
      "outputs": [
        {
          "output_type": "execute_result",
          "data": {
            "text/plain": [
              "<IPython.core.display.Latex object>"
            ],
            "text/latex": "\\begin{eqnarray}\\iint_{\\Large{\\mathbf{V}}=\\left\\{\\large{\\begin{array}{l} 0 \\le x \\le 1,\\cr 0 \\le y \\le x,\\cr\\end{array}}\\right\\}} \\color{brown}{e^{- x^{2}}} dV&=& \\iint_{\\Large{\\mathbf{V}}} \\color{brown}{e^{- x^{2}}}  d x  d y  \\cr \\color{blue}{\\text{Fubini's Theorem}}&=&\\int_{0}^{1}d{x}\\int_{0}^{x} \\color{brown}{e^{- x^{2}}}d{y}\\cr &=&\\int_{0}^{1} \\left.\\color{brown}{y e^{- x^{2}}} \\right|_{0}^{x} d{x}\\cr&=&\\int_{0}^{1} \\color{brown}{x e^{- x^{2}}}d{x}\\cr &=&\\left. \\color{brown}{- \\frac{e^{- x^{2}}}{2}} \\right|_{0}^{1}\\cr&=&0.5 - \\frac{1}{2 e}\\end{eqnarray}"
          },
          "metadata": {},
          "execution_count": 9
        }
      ]
    },
    {
      "cell_type": "code",
      "source": [
        "#12\n",
        "f=y/(x**2+y**2)\n",
        "X=[x,y]\n",
        "XR=[[1,2],[x,2*x]]\n",
        "MultipleIntegral(f,X,XR)"
      ],
      "metadata": {
        "id": "0zu4QsH49b-L",
        "colab": {
          "base_uri": "https://localhost:8080/",
          "height": 54
        },
        "outputId": "a3035f13-2c77-4a34-fb4d-c9561562f926"
      },
      "execution_count": 10,
      "outputs": [
        {
          "output_type": "execute_result",
          "data": {
            "text/plain": [
              "<IPython.core.display.Latex object>"
            ],
            "text/latex": "\\begin{eqnarray}\\iint_{\\Large{\\mathbf{V}}=\\left\\{\\large{\\begin{array}{l} 1 \\le x \\le 2,\\cr x \\le y \\le 2 x,\\cr\\end{array}}\\right\\}} \\color{brown}{\\frac{y}{x^{2} + y^{2}}} dV&=& \\iint_{\\Large{\\mathbf{V}}} \\color{brown}{\\frac{y}{x^{2} + y^{2}}}  d x  d y  \\cr \\color{blue}{\\text{Fubini's Theorem}}&=&\\int_{1}^{2}d{x}\\int_{x}^{2 x} \\color{brown}{\\frac{y}{x^{2} + y^{2}}}d{y}\\cr &=&\\int_{1}^{2} \\left.\\color{brown}{\\frac{\\log{\\left(x^{2} + y^{2} \\right)}}{2}} \\right|_{x}^{2 x} d{x}\\cr&=&\\int_{1}^{2} \\color{brown}{- \\frac{\\log{\\left(2 x^{2} \\right)}}{2} + \\frac{\\log{\\left(5 x^{2} \\right)}}{2}}d{x}\\cr &=&\\left. \\color{brown}{x \\left(- \\frac{\\log{\\left(2 \\right)}}{2} + \\frac{\\log{\\left(5 \\right)}}{2}\\right)} \\right|_{1}^{2}\\cr&=&- \\frac{\\log{\\left(2 \\right)}}{2} + \\frac{\\log{\\left(5 \\right)}}{2}\\end{eqnarray}"
          },
          "metadata": {},
          "execution_count": 10
        }
      ]
    },
    {
      "cell_type": "code",
      "source": [
        "#27\n",
        "f=4-x**2\n",
        "X=[x,y]\n",
        "XR=[[0,2],[0,4-x**2]]\n",
        "MultipleIntegral(f,X,XR)"
      ],
      "metadata": {
        "id": "bZAUYNru9cA0",
        "colab": {
          "base_uri": "https://localhost:8080/",
          "height": 54
        },
        "outputId": "c47ad14a-91fb-4344-9422-08048d75d2ae"
      },
      "execution_count": 11,
      "outputs": [
        {
          "output_type": "execute_result",
          "data": {
            "text/plain": [
              "<IPython.core.display.Latex object>"
            ],
            "text/latex": "\\begin{eqnarray}\\iint_{\\Large{\\mathbf{V}}=\\left\\{\\large{\\begin{array}{l} 0 \\le x \\le 2,\\cr 0 \\le y \\le 4 - x^{2},\\cr\\end{array}}\\right\\}} \\color{brown}{4 - x^{2}} dV&=& \\iint_{\\Large{\\mathbf{V}}} \\color{brown}{4 - x^{2}}  d x  d y  \\cr \\color{blue}{\\text{Fubini's Theorem}}&=&\\int_{0}^{2}d{x}\\int_{0}^{4 - x^{2}} \\color{brown}{4 - x^{2}}d{y}\\cr &=&\\int_{0}^{2} \\left.\\color{brown}{y \\left(4 - x^{2}\\right)} \\right|_{0}^{4 - x^{2}} d{x}\\cr&=&\\int_{0}^{2} \\color{brown}{\\left(4 - x^{2}\\right)^{2}}d{x}\\cr &=&\\left. \\color{brown}{\\frac{x^{5}}{5} - \\frac{8 x^{3}}{3} + 16 x} \\right|_{0}^{2}\\cr&=&17.0666666666667\\end{eqnarray}"
          },
          "metadata": {},
          "execution_count": 11
        }
      ]
    },
    {
      "cell_type": "code",
      "source": [
        "#34 change variable, x**2+y**2<=4\n",
        "f=sqrt(4-y**2)\n",
        "X=[y,x]\n",
        "XR=[[-2,2],[-sqrt(4-y**2),sqrt(4-y**2)]]\n",
        "MultipleIntegral(f,X,XR)"
      ],
      "metadata": {
        "colab": {
          "base_uri": "https://localhost:8080/",
          "height": 54
        },
        "id": "sVVGTNmlXHgB",
        "outputId": "1065def3-c28e-46a5-d294-cff86591e0af"
      },
      "execution_count": 12,
      "outputs": [
        {
          "output_type": "execute_result",
          "data": {
            "text/plain": [
              "<IPython.core.display.Latex object>"
            ],
            "text/latex": "\\begin{eqnarray}\\iint_{\\Large{\\mathbf{V}}=\\left\\{\\large{\\begin{array}{l} -2 \\le y \\le 2,\\cr - \\sqrt{4 - y^{2}} \\le x \\le \\sqrt{4 - y^{2}},\\cr\\end{array}}\\right\\}} \\color{brown}{\\sqrt{4 - y^{2}}} dV&=& \\iint_{\\Large{\\mathbf{V}}} \\color{brown}{\\sqrt{4 - y^{2}}}  d y  d x  \\cr \\color{blue}{\\text{Fubini's Theorem}}&=&\\int_{-2}^{2}d{y}\\int_{- \\sqrt{4 - y^{2}}}^{\\sqrt{4 - y^{2}}} \\color{brown}{\\sqrt{4 - y^{2}}}d{x}\\cr &=&\\int_{-2}^{2} \\left.\\color{brown}{x \\sqrt{4 - y^{2}}} \\right|_{- \\sqrt{4 - y^{2}}}^{\\sqrt{4 - y^{2}}} d{y}\\cr&=&\\int_{-2}^{2} \\color{brown}{8 - 2 y^{2}}d{y}\\cr &=&\\left. \\color{brown}{- \\frac{2 y^{3}}{3} + 8 y} \\right|_{-2}^{2}\\cr&=&21.3333333333333\\end{eqnarray}"
          },
          "metadata": {},
          "execution_count": 12
        }
      ]
    },
    {
      "cell_type": "code",
      "source": [
        "#34 change variable, x \\in[0,2], y in [2x,4]\n",
        "f=sin(y**2)\n",
        "X=[y,x]\n",
        "XR=[[0,4],[0,y/2]]\n",
        "MultipleIntegral(f,X,XR)"
      ],
      "metadata": {
        "colab": {
          "base_uri": "https://localhost:8080/",
          "height": 54
        },
        "id": "R05zYzQ5XHiw",
        "outputId": "6fab29b5-981e-4881-83e6-2218b35c4c0f"
      },
      "execution_count": 13,
      "outputs": [
        {
          "output_type": "execute_result",
          "data": {
            "text/plain": [
              "<IPython.core.display.Latex object>"
            ],
            "text/latex": "\\begin{eqnarray}\\iint_{\\Large{\\mathbf{V}}=\\left\\{\\large{\\begin{array}{l} 0 \\le y \\le 4,\\cr 0 \\le x \\le \\frac{y}{2},\\cr\\end{array}}\\right\\}} \\color{brown}{\\sin{\\left(y^{2} \\right)}} dV&=& \\iint_{\\Large{\\mathbf{V}}} \\color{brown}{\\sin{\\left(y^{2} \\right)}}  d y  d x  \\cr \\color{blue}{\\text{Fubini's Theorem}}&=&\\int_{0}^{4}d{y}\\int_{0}^{\\frac{y}{2}} \\color{brown}{\\sin{\\left(y^{2} \\right)}}d{x}\\cr &=&\\int_{0}^{4} \\left.\\color{brown}{x \\sin{\\left(y^{2} \\right)}} \\right|_{0}^{\\frac{y}{2}} d{y}\\cr&=&\\int_{0}^{4} \\color{brown}{\\frac{y \\sin{\\left(y^{2} \\right)}}{2}}d{y}\\cr &=&\\left. \\color{brown}{- \\frac{\\cos{\\left(y^{2} \\right)}}{4}} \\right|_{0}^{4}\\cr&=&0.25 - \\frac{\\cos{\\left(16 \\right)}}{4}\\end{eqnarray}"
          },
          "metadata": {},
          "execution_count": 13
        }
      ]
    },
    {
      "cell_type": "code",
      "source": [
        "#35 change variable, x \\in[0,2], y in [x^2/2,2]\n",
        "f=sqrt(y)*cos(y)\n",
        "X=[y,x]\n",
        "XR=[[0,2],[0,sqrt(2*y)]]\n",
        "MultipleIntegral(f,X,XR)"
      ],
      "metadata": {
        "id": "Luq0P9Bu9cIN",
        "colab": {
          "base_uri": "https://localhost:8080/",
          "height": 54
        },
        "outputId": "d967932e-fae8-4627-8d34-3c2032a3d86d"
      },
      "execution_count": 14,
      "outputs": [
        {
          "output_type": "execute_result",
          "data": {
            "text/plain": [
              "<IPython.core.display.Latex object>"
            ],
            "text/latex": "\\begin{eqnarray}\\iint_{\\Large{\\mathbf{V}}=\\left\\{\\large{\\begin{array}{l} 0 \\le y \\le 2,\\cr 0 \\le x \\le \\sqrt{2} \\sqrt{y},\\cr\\end{array}}\\right\\}} \\color{brown}{\\sqrt{y} \\cos{\\left(y \\right)}} dV&=& \\iint_{\\Large{\\mathbf{V}}} \\color{brown}{\\sqrt{y} \\cos{\\left(y \\right)}}  d y  d x  \\cr \\color{blue}{\\text{Fubini's Theorem}}&=&\\int_{0}^{2}d{y}\\int_{0}^{\\sqrt{2} \\sqrt{y}} \\color{brown}{\\sqrt{y} \\cos{\\left(y \\right)}}d{x}\\cr &=&\\int_{0}^{2} \\left.\\color{brown}{x \\sqrt{y} \\cos{\\left(y \\right)}} \\right|_{0}^{\\sqrt{2} \\sqrt{y}} d{y}\\cr&=&\\int_{0}^{2} \\color{brown}{\\sqrt{2} y \\cos{\\left(y \\right)}}d{y}\\cr &=&\\left. \\color{brown}{\\sqrt{2} \\left(y \\sin{\\left(y \\right)} + \\cos{\\left(y \\right)}\\right)} \\right|_{0}^{2}\\cr&=&- \\sqrt{2} + \\sqrt{2} \\left(\\cos{\\left(2 \\right)} + 2 \\sin{\\left(2 \\right)}\\right)\\end{eqnarray}"
          },
          "metadata": {},
          "execution_count": 14
        }
      ]
    },
    {
      "cell_type": "code",
      "source": [
        "#46\n",
        "f=c*(1-x/a-y/b)\n",
        "X=[x,y]\n",
        "XR=[[0,a],[0,b*(1-x/a)]]\n",
        "MultipleIntegral(f,X,XR)"
      ],
      "metadata": {
        "colab": {
          "base_uri": "https://localhost:8080/",
          "height": 54
        },
        "id": "86hgbwIWXTdR",
        "outputId": "21f980dc-5d27-49f0-c284-f5b137f1e170"
      },
      "execution_count": 15,
      "outputs": [
        {
          "output_type": "execute_result",
          "data": {
            "text/plain": [
              "<IPython.core.display.Latex object>"
            ],
            "text/latex": "\\begin{eqnarray}\\iint_{\\Large{\\mathbf{V}}=\\left\\{\\large{\\begin{array}{l} 0 \\le x \\le a,\\cr 0 \\le y \\le b \\left(1 - \\frac{x}{a}\\right),\\cr\\end{array}}\\right\\}} \\color{brown}{c \\left(1 - \\frac{y}{b} - \\frac{x}{a}\\right)} dV&=& \\iint_{\\Large{\\mathbf{V}}} \\color{brown}{c \\left(1 - \\frac{y}{b} - \\frac{x}{a}\\right)}  d x  d y  \\cr \\color{blue}{\\text{Fubini's Theorem}}&=&\\int_{0}^{a}d{x}\\int_{0}^{b \\left(1 - \\frac{x}{a}\\right)} \\color{brown}{c \\left(1 - \\frac{y}{b} - \\frac{x}{a}\\right)}d{y}\\cr &=&\\int_{0}^{a} \\left.\\color{brown}{- \\frac{c y^{2}}{2 b} + \\frac{y \\left(a c - c x\\right)}{a}} \\right|_{0}^{b \\left(1 - \\frac{x}{a}\\right)} d{x}\\cr&=&\\int_{0}^{a} \\color{brown}{- \\frac{b c \\left(1 - \\frac{x}{a}\\right)^{2}}{2} + \\frac{b \\left(1 - \\frac{x}{a}\\right) \\left(a c - c x\\right)}{a}}d{x}\\cr &=&\\left. \\color{brown}{\\frac{b c x}{2} - \\frac{b c x^{2}}{2 a} + \\frac{b c x^{3}}{6 a^{2}}} \\right|_{0}^{a}\\cr&=&\\frac{a b c}{6}\\end{eqnarray}"
          },
          "metadata": {},
          "execution_count": 15
        }
      ]
    },
    {
      "cell_type": "code",
      "source": [
        "J=rho**2*sin(phi)\n",
        "f=1*J\n",
        "X=[Theta,phi,rho]\n",
        "XR=[[0,2*pi],[0,pi],[2,5]]\n",
        "MultipleIntegral(f,X,XR)"
      ],
      "metadata": {
        "colab": {
          "base_uri": "https://localhost:8080/",
          "height": 54
        },
        "id": "mKXyqWiaXU5p",
        "outputId": "f5763874-31ba-46e9-8ee4-dedea2638908"
      },
      "execution_count": 17,
      "outputs": [
        {
          "output_type": "execute_result",
          "data": {
            "text/plain": [
              "<IPython.core.display.Latex object>"
            ],
            "text/latex": "\\begin{eqnarray}\\iiint_{\\Large{\\mathbf{V}}=\\left\\{\\large{\\begin{array}{l} 0 \\le 𝜽 \\le 2 \\pi,\\cr 0 \\le 𝝋 \\le \\pi,\\cr 2 \\le 𝝆 \\le 5,\\cr\\end{array}}\\right\\}} \\color{brown}{𝝆^{2} \\sin{\\left(𝝋 \\right)}} dV&=& \\iiint_{\\Large{\\mathbf{V}}} \\color{brown}{𝝆^{2} \\sin{\\left(𝝋 \\right)}}  d 𝜽  d 𝝋  d 𝝆  \\cr \\color{blue}{\\text{Fubini's Theorem}}&=&\\int_{0}^{2 \\pi}d{𝜽}\\int_{0}^{\\pi}d{𝝋}\\int_{2}^{5} \\color{brown}{𝝆^{2} \\sin{\\left(𝝋 \\right)}}d{𝝆}\\cr &=&\\int_{0}^{2 \\pi} d{𝜽}\\int_{0}^{\\pi} \\left.\\color{brown}{\\frac{𝝆^{3} \\sin{\\left(𝝋 \\right)}}{3}} \\right|_{2}^{5} d{𝝋}\\cr&=&\\int_{0}^{2 \\pi}d{𝜽}\\int_{0}^{\\pi} \\color{brown}{39 \\sin{\\left(𝝋 \\right)}}d{𝝋}\\cr &=&\\int_{0}^{2 \\pi} \\left. \\color{brown}{- 39 \\cos{\\left(𝝋 \\right)}} \\right|_{0}^{\\pi} d{𝜽}\\cr&=&\\int_{0}^{2 \\pi} \\color{brown}{78}d{𝜽}\\cr &=&\\left. \\color{brown}{78 𝜽} \\right|_{0}^{2 \\pi}\\cr&=&156 \\pi\\end{eqnarray}"
          },
          "metadata": {},
          "execution_count": 17
        }
      ]
    }
  ]
}