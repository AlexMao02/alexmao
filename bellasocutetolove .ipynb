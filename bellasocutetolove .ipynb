{
  "nbformat": 4,
  "nbformat_minor": 0,
  "metadata": {
    "colab": {
      "provenance": []
    },
    "kernelspec": {
      "name": "python3",
      "display_name": "Python 3"
    },
    "language_info": {
      "name": "python"
    }
  },
  "cells": [
    {
      "cell_type": "code",
      "execution_count": 1,
      "metadata": {
        "id": "l_mOca-Q9Zbp"
      },
      "outputs": [],
      "source": [
        "from MultipleCalculus import *"
      ]
    },
    {
      "cell_type": "code",
      "source": [
        "f=exp(-x/y)\n",
        "X=[x,y]\n",
        "XR=[[0,2],[x,2]]\n",
        "MultipleIntegral(f,X,XR)"
      ],
      "metadata": {
        "id": "2VfG8RLi9b4c",
        "colab": {
          "base_uri": "https://localhost:8080/",
          "height": 260
        },
        "outputId": "071efe3e-a3ba-4cfe-fe6d-df8ba4d4d645"
      },
      "execution_count": 4,
      "outputs": [
        {
          "output_type": "error",
          "ename": "NameError",
          "evalue": "ignored",
          "traceback": [
            "\u001b[0;31m---------------------------------------------------------------------------\u001b[0m",
            "\u001b[0;31mNameError\u001b[0m                                 Traceback (most recent call last)",
            "\u001b[0;32m<ipython-input-4-42e7e080bf09>\u001b[0m in \u001b[0;36m<cell line: 4>\u001b[0;34m()\u001b[0m\n\u001b[1;32m      2\u001b[0m \u001b[0mX\u001b[0m\u001b[0;34m=\u001b[0m\u001b[0;34m[\u001b[0m\u001b[0mx\u001b[0m\u001b[0;34m,\u001b[0m\u001b[0my\u001b[0m\u001b[0;34m]\u001b[0m\u001b[0;34m\u001b[0m\u001b[0;34m\u001b[0m\u001b[0m\n\u001b[1;32m      3\u001b[0m \u001b[0mXR\u001b[0m\u001b[0;34m=\u001b[0m\u001b[0;34m[\u001b[0m\u001b[0;34m[\u001b[0m\u001b[0;36m0\u001b[0m\u001b[0;34m,\u001b[0m\u001b[0;36m2\u001b[0m\u001b[0;34m]\u001b[0m\u001b[0;34m,\u001b[0m\u001b[0;34m[\u001b[0m\u001b[0mx\u001b[0m\u001b[0;34m,\u001b[0m\u001b[0;36m2\u001b[0m\u001b[0;34m]\u001b[0m\u001b[0;34m]\u001b[0m\u001b[0;34m\u001b[0m\u001b[0;34m\u001b[0m\u001b[0m\n\u001b[0;32m----> 4\u001b[0;31m \u001b[0mMultipleIntegral\u001b[0m\u001b[0;34m(\u001b[0m\u001b[0mf\u001b[0m\u001b[0;34m,\u001b[0m\u001b[0mX\u001b[0m\u001b[0;34m,\u001b[0m\u001b[0mXR\u001b[0m\u001b[0;34m)\u001b[0m\u001b[0;34m\u001b[0m\u001b[0;34m\u001b[0m\u001b[0m\n\u001b[0m",
            "\u001b[0;32m/content/MultipleCalculus.py\u001b[0m in \u001b[0;36mMultipleIntegral\u001b[0;34m(f, X, XR)\u001b[0m\n\u001b[1;32m    627\u001b[0m     \u001b[0mI\u001b[0m\u001b[0;34m=\u001b[0m\u001b[0;34m'I'\u001b[0m\u001b[0;34m+\u001b[0m\u001b[0mstr\u001b[0m\u001b[0;34m(\u001b[0m\u001b[0mX\u001b[0m\u001b[0;34m[\u001b[0m\u001b[0;34m-\u001b[0m\u001b[0;36m1\u001b[0m\u001b[0;34m]\u001b[0m\u001b[0;34m)\u001b[0m\u001b[0;34m\u001b[0m\u001b[0;34m\u001b[0m\u001b[0m\n\u001b[1;32m    628\u001b[0m     \u001b[0mIX\u001b[0m\u001b[0;34m=\u001b[0m\u001b[0;34m[\u001b[0m\u001b[0mintegrate\u001b[0m\u001b[0;34m(\u001b[0m\u001b[0mf\u001b[0m\u001b[0;34m,\u001b[0m\u001b[0mX\u001b[0m\u001b[0;34m[\u001b[0m\u001b[0;34m-\u001b[0m\u001b[0;36m1\u001b[0m\u001b[0;34m]\u001b[0m\u001b[0;34m)\u001b[0m\u001b[0;34m]\u001b[0m\u001b[0;34m\u001b[0m\u001b[0;34m\u001b[0m\u001b[0m\n\u001b[0;32m--> 629\u001b[0;31m     \u001b[0mIX_tex\u001b[0m\u001b[0;34m=\u001b[0m\u001b[0;34m[\u001b[0m\u001b[0mtex\u001b[0m\u001b[0;34m(\u001b[0m\u001b[0mIX\u001b[0m\u001b[0;34m[\u001b[0m\u001b[0;36m0\u001b[0m\u001b[0;34m]\u001b[0m\u001b[0;34m)\u001b[0m\u001b[0;34m]\u001b[0m\u001b[0;34m\u001b[0m\u001b[0;34m\u001b[0m\u001b[0m\n\u001b[0m\u001b[1;32m    630\u001b[0m     \u001b[0mint_g\u001b[0m\u001b[0;34m=\u001b[0m\u001b[0;34m'\\left.\\color{brown}{%s} \\\\right|_{%s}^{%s}'\u001b[0m \u001b[0;34m%\u001b[0m\u001b[0;34m(\u001b[0m\u001b[0mIX_tex\u001b[0m\u001b[0;34m[\u001b[0m\u001b[0;36m0\u001b[0m\u001b[0;34m]\u001b[0m\u001b[0;34m,\u001b[0m\u001b[0mXR0\u001b[0m\u001b[0;34m[\u001b[0m\u001b[0;34m-\u001b[0m\u001b[0;36m1\u001b[0m\u001b[0;34m]\u001b[0m\u001b[0;34m[\u001b[0m\u001b[0;36m0\u001b[0m\u001b[0;34m]\u001b[0m\u001b[0;34m,\u001b[0m\u001b[0mXR0\u001b[0m\u001b[0;34m[\u001b[0m\u001b[0;34m-\u001b[0m\u001b[0;36m1\u001b[0m\u001b[0;34m]\u001b[0m\u001b[0;34m[\u001b[0m\u001b[0;36m1\u001b[0m\u001b[0;34m]\u001b[0m\u001b[0;34m)\u001b[0m\u001b[0;34m\u001b[0m\u001b[0;34m\u001b[0m\u001b[0m\n\u001b[1;32m    631\u001b[0m     \u001b[0mIntegrand_tex_val\u001b[0m\u001b[0;34m=\u001b[0m\u001b[0;34m[\u001b[0m\u001b[0mint_g\u001b[0m\u001b[0;34m]\u001b[0m\u001b[0;34m\u001b[0m\u001b[0;34m\u001b[0m\u001b[0m\n",
            "\u001b[0;32m/content/MultipleCalculus.py\u001b[0m in \u001b[0;36mtex\u001b[0;34m(expr_)\u001b[0m\n\u001b[1;32m     77\u001b[0m     \u001b[0mconvert\u001b[0m \u001b[0mexpress\u001b[0m \u001b[0mto\u001b[0m \u001b[0mlatex\u001b[0m\u001b[0;34m\u001b[0m\u001b[0;34m\u001b[0m\u001b[0m\n\u001b[1;32m     78\u001b[0m     \"\"\"\n\u001b[0;32m---> 79\u001b[0;31m     \u001b[0;32mreturn\u001b[0m\u001b[0;34m(\u001b[0m\u001b[0mlatex\u001b[0m\u001b[0;34m(\u001b[0m\u001b[0meval\u001b[0m\u001b[0;34m(\u001b[0m\u001b[0mstr\u001b[0m\u001b[0;34m(\u001b[0m\u001b[0mexpr_\u001b[0m\u001b[0;34m)\u001b[0m\u001b[0;34m)\u001b[0m\u001b[0;34m)\u001b[0m\u001b[0;34m)\u001b[0m\u001b[0;34m\u001b[0m\u001b[0;34m\u001b[0m\u001b[0m\n\u001b[0m\u001b[1;32m     80\u001b[0m \u001b[0;34m\u001b[0m\u001b[0m\n\u001b[1;32m     81\u001b[0m \u001b[0;34m\u001b[0m\u001b[0m\n",
            "\u001b[0;32m/content/MultipleCalculus.py\u001b[0m in \u001b[0;36m<module>\u001b[0;34m\u001b[0m\n",
            "\u001b[0;31mNameError\u001b[0m: name 'exp_polar' is not defined"
          ]
        }
      ]
    },
    {
      "cell_type": "code",
      "source": [
        "f=exp(-y**2+x*y)\n",
        "X=[x,y]\n",
        "XR=[[0,y],[0,sqrt(x+y)]]\n",
        "MultipleIntegral(f,X,XR)"
      ],
      "metadata": {
        "id": "4w-rHL179b7f",
        "colab": {
          "base_uri": "https://localhost:8080/",
          "height": 260
        },
        "outputId": "0a77a623-6faa-49eb-fdaa-ca45406f7529"
      },
      "execution_count": 8,
      "outputs": [
        {
          "output_type": "error",
          "ename": "NameError",
          "evalue": "ignored",
          "traceback": [
            "\u001b[0;31m---------------------------------------------------------------------------\u001b[0m",
            "\u001b[0;31mNameError\u001b[0m                                 Traceback (most recent call last)",
            "\u001b[0;32m<ipython-input-8-f0e683e53e8b>\u001b[0m in \u001b[0;36m<cell line: 4>\u001b[0;34m()\u001b[0m\n\u001b[1;32m      2\u001b[0m \u001b[0mX\u001b[0m\u001b[0;34m=\u001b[0m\u001b[0;34m[\u001b[0m\u001b[0mx\u001b[0m\u001b[0;34m,\u001b[0m\u001b[0my\u001b[0m\u001b[0;34m]\u001b[0m\u001b[0;34m\u001b[0m\u001b[0;34m\u001b[0m\u001b[0m\n\u001b[1;32m      3\u001b[0m \u001b[0mXR\u001b[0m\u001b[0;34m=\u001b[0m\u001b[0;34m[\u001b[0m\u001b[0;34m[\u001b[0m\u001b[0;36m0\u001b[0m\u001b[0;34m,\u001b[0m\u001b[0my\u001b[0m\u001b[0;34m]\u001b[0m\u001b[0;34m,\u001b[0m\u001b[0;34m[\u001b[0m\u001b[0;36m0\u001b[0m\u001b[0;34m,\u001b[0m\u001b[0msqrt\u001b[0m\u001b[0;34m(\u001b[0m\u001b[0mx\u001b[0m\u001b[0;34m+\u001b[0m\u001b[0my\u001b[0m\u001b[0;34m)\u001b[0m\u001b[0;34m]\u001b[0m\u001b[0;34m]\u001b[0m\u001b[0;34m\u001b[0m\u001b[0;34m\u001b[0m\u001b[0m\n\u001b[0;32m----> 4\u001b[0;31m \u001b[0mMultipleIntegral\u001b[0m\u001b[0;34m(\u001b[0m\u001b[0mf\u001b[0m\u001b[0;34m,\u001b[0m\u001b[0mX\u001b[0m\u001b[0;34m,\u001b[0m\u001b[0mXR\u001b[0m\u001b[0;34m)\u001b[0m\u001b[0;34m\u001b[0m\u001b[0;34m\u001b[0m\u001b[0m\n\u001b[0m",
            "\u001b[0;32m/content/MultipleCalculus.py\u001b[0m in \u001b[0;36mMultipleIntegral\u001b[0;34m(f, X, XR)\u001b[0m\n\u001b[1;32m    653\u001b[0m         \u001b[0;31m#I=integrate(DIX[i],var)\u001b[0m\u001b[0;34m\u001b[0m\u001b[0;34m\u001b[0m\u001b[0m\n\u001b[1;32m    654\u001b[0m         \u001b[0mIX\u001b[0m\u001b[0;34m.\u001b[0m\u001b[0mappend\u001b[0m\u001b[0;34m(\u001b[0m\u001b[0mI\u001b[0m\u001b[0;34m)\u001b[0m\u001b[0;34m\u001b[0m\u001b[0;34m\u001b[0m\u001b[0m\n\u001b[0;32m--> 655\u001b[0;31m         \u001b[0mIX_tex\u001b[0m\u001b[0;34m.\u001b[0m\u001b[0mappend\u001b[0m\u001b[0;34m(\u001b[0m\u001b[0mlatex\u001b[0m\u001b[0;34m(\u001b[0m\u001b[0meval\u001b[0m\u001b[0;34m(\u001b[0m\u001b[0mstr\u001b[0m\u001b[0;34m(\u001b[0m\u001b[0mI\u001b[0m\u001b[0;34m)\u001b[0m\u001b[0;34m)\u001b[0m\u001b[0;34m)\u001b[0m\u001b[0;34m)\u001b[0m\u001b[0;34m\u001b[0m\u001b[0;34m\u001b[0m\u001b[0m\n\u001b[0m\u001b[1;32m    656\u001b[0m         \u001b[0mIntegrand_tex_val\u001b[0m\u001b[0;34m.\u001b[0m\u001b[0mappend\u001b[0m\u001b[0;34m(\u001b[0m\u001b[0;34m'\\left. \\color{brown}{%s} \\\\right|_{%s}^{%s}'\u001b[0m \u001b[0;34m%\u001b[0m\u001b[0;34m(\u001b[0m\u001b[0mIX_tex\u001b[0m\u001b[0;34m[\u001b[0m\u001b[0;34m-\u001b[0m\u001b[0;36m1\u001b[0m\u001b[0;34m]\u001b[0m\u001b[0;34m,\u001b[0m\u001b[0mXR0\u001b[0m\u001b[0;34m[\u001b[0m\u001b[0mn\u001b[0m\u001b[0;34m-\u001b[0m\u001b[0mi\u001b[0m\u001b[0;34m-\u001b[0m\u001b[0;36m2\u001b[0m\u001b[0;34m]\u001b[0m\u001b[0;34m[\u001b[0m\u001b[0;36m0\u001b[0m\u001b[0;34m]\u001b[0m\u001b[0;34m,\u001b[0m\u001b[0mXR0\u001b[0m\u001b[0;34m[\u001b[0m\u001b[0mn\u001b[0m\u001b[0;34m-\u001b[0m\u001b[0mi\u001b[0m\u001b[0;34m-\u001b[0m\u001b[0;36m2\u001b[0m\u001b[0;34m]\u001b[0m\u001b[0;34m[\u001b[0m\u001b[0;36m1\u001b[0m\u001b[0;34m]\u001b[0m\u001b[0;34m)\u001b[0m \u001b[0;34m)\u001b[0m\u001b[0;34m\u001b[0m\u001b[0;34m\u001b[0m\u001b[0m\n\u001b[1;32m    657\u001b[0m         \u001b[0mII\u001b[0m\u001b[0;34m=\u001b[0m\u001b[0;34m'II'\u001b[0m\u001b[0;34m+\u001b[0m\u001b[0mstr\u001b[0m\u001b[0;34m(\u001b[0m\u001b[0mvar\u001b[0m\u001b[0;34m)\u001b[0m\u001b[0;34m\u001b[0m\u001b[0;34m\u001b[0m\u001b[0m\n",
            "\u001b[0;32m/content/MultipleCalculus.py\u001b[0m in \u001b[0;36m<module>\u001b[0;34m\u001b[0m\n",
            "\u001b[0;31mNameError\u001b[0m: name 'Integral' is not defined"
          ]
        }
      ]
    },
    {
      "cell_type": "code",
      "source": [
        "J=x+2*y+z\n",
        "f=1*J\n",
        "X=[x,y,z]\n",
        "XR=[[0,1/2],[0,1],[0,1/2]]\n",
        "MultipleIntegral(f,X,XR)"
      ],
      "metadata": {
        "colab": {
          "base_uri": "https://localhost:8080/",
          "height": 54
        },
        "id": "mKXyqWiaXU5p",
        "outputId": "cce40b6f-26e5-444c-e890-787de6ad086c"
      },
      "execution_count": 18,
      "outputs": [
        {
          "output_type": "execute_result",
          "data": {
            "text/plain": [
              "<IPython.core.display.Latex object>"
            ],
            "text/latex": "\\begin{eqnarray}\\iiint_{\\Large{\\mathbf{V}}=\\left\\{\\large{\\begin{array}{l} 0 \\le x \\le 0.5,\\cr 0 \\le y \\le 1,\\cr 0 \\le z \\le 0.5,\\cr\\end{array}}\\right\\}} \\color{brown}{x + 2 y + z} dV&=& \\iiint_{\\Large{\\mathbf{V}}} \\color{brown}{x + 2 y + z}  d x  d y  d z  \\cr \\color{blue}{\\text{Fubini's Theorem}}&=&\\int_{0}^{0.5}d{x}\\int_{0}^{1}d{y}\\int_{0}^{0.5} \\color{brown}{x + 2 y + z}d{z}\\cr &=&\\int_{0}^{0.5} d{x}\\int_{0}^{1} \\left.\\color{brown}{\\frac{z^{2}}{2} + z \\left(x + 2 y\\right)} \\right|_{0}^{0.5} d{y}\\cr&=&\\int_{0}^{0.5}d{x}\\int_{0}^{1} \\color{brown}{0.5 x + 1.0 y + 0.125}d{y}\\cr &=&\\int_{0}^{0.5} \\left. \\color{brown}{0.5 y^{2} + y \\left(0.5 x + 0.125\\right)} \\right|_{0}^{1} d{x}\\cr&=&\\int_{0}^{0.5} \\color{brown}{0.5 x + 0.625}d{x}\\cr &=&\\left. \\color{brown}{0.25 x^{2} + 0.625 x} \\right|_{0}^{0.5}\\cr&=&0.375\\end{eqnarray}"
          },
          "metadata": {},
          "execution_count": 18
        }
      ]
    },
    {
      "cell_type": "code",
      "source": [
        "J=x+2*y+z\n",
        "f=1*J\n",
        "X=[x,y,z]\n",
        "XR=[[0,0],[0,2],[0,y]]\n",
        "MultipleIntegral(f,X,XR)"
      ],
      "metadata": {
        "colab": {
          "base_uri": "https://localhost:8080/",
          "height": 54
        },
        "id": "E4hOhmMQGD8D",
        "outputId": "c2dccc1a-5ed6-4cbc-9b80-f4be60530d2b"
      },
      "execution_count": 19,
      "outputs": [
        {
          "output_type": "execute_result",
          "data": {
            "text/plain": [
              "<IPython.core.display.Latex object>"
            ],
            "text/latex": "\\begin{eqnarray}\\iiint_{\\Large{\\mathbf{V}}=\\left\\{\\large{\\begin{array}{l} 0 \\le x \\le 0,\\cr 0 \\le y \\le 2,\\cr 0 \\le z \\le y,\\cr\\end{array}}\\right\\}} \\color{brown}{x + 2 y + z} dV&=& \\iiint_{\\Large{\\mathbf{V}}} \\color{brown}{x + 2 y + z}  d x  d y  d z  \\cr \\color{blue}{\\text{Fubini's Theorem}}&=&\\int_{0}^{0}d{x}\\int_{0}^{2}d{y}\\int_{0}^{y} \\color{brown}{x + 2 y + z}d{z}\\cr &=&\\int_{0}^{0} d{x}\\int_{0}^{2} \\left.\\color{brown}{\\frac{z^{2}}{2} + z \\left(x + 2 y\\right)} \\right|_{0}^{y} d{y}\\cr&=&\\int_{0}^{0}d{x}\\int_{0}^{2} \\color{brown}{\\frac{y^{2}}{2} + y \\left(x + 2 y\\right)}d{y}\\cr &=&\\int_{0}^{0} \\left. \\color{brown}{\\frac{x y^{2}}{2} + \\frac{5 y^{3}}{6}} \\right|_{0}^{2} d{x}\\cr&=&\\int_{0}^{0} \\color{brown}{2 x + 6.66666666666667}d{x}\\cr &=&\\left. \\color{brown}{x^{2} + \\frac{20 x}{3}} \\right|_{0}^{0}\\cr&=&0\\end{eqnarray}"
          },
          "metadata": {},
          "execution_count": 19
        }
      ]
    },
    {
      "cell_type": "code",
      "source": [
        "J=x+2*y+z\n",
        "f=1*J\n",
        "X=[x,y,z]\n",
        "XR=[[-sqrt(2),sqrt(2)],[-sqrt(2-x**2),sqrt(2-x**2)],[sqrt(1/2),sqrt(2)]]\n",
        "MultipleIntegral(f,X,XR)"
      ],
      "metadata": {
        "colab": {
          "base_uri": "https://localhost:8080/",
          "height": 54
        },
        "id": "7indxWq_GD_A",
        "outputId": "226f4038-a330-426b-cfb4-d77f1e02bcab"
      },
      "execution_count": 14,
      "outputs": [
        {
          "output_type": "execute_result",
          "data": {
            "text/plain": [
              "<IPython.core.display.Latex object>"
            ],
            "text/latex": "\\begin{eqnarray}\\iiint_{\\Large{\\mathbf{V}}=\\left\\{\\large{\\begin{array}{l} - \\sqrt{2} \\le x \\le \\sqrt{2},\\cr - \\sqrt{2 - x^{2}} \\le y \\le \\sqrt{2 - x^{2}},\\cr 0.707106781186548 \\le z \\le \\sqrt{2},\\cr\\end{array}}\\right\\}} \\color{brown}{x + 2 y + z} dV&=& \\iiint_{\\Large{\\mathbf{V}}} \\color{brown}{x + 2 y + z}  d x  d y  d z  \\cr \\color{blue}{\\text{Fubini's Theorem}}&=&\\int_{- \\sqrt{2}}^{\\sqrt{2}}d{x}\\int_{- \\sqrt{2 - x^{2}}}^{\\sqrt{2 - x^{2}}}d{y}\\int_{0.707106781186548}^{\\sqrt{2}} \\color{brown}{x + 2 y + z}d{z}\\cr &=&\\int_{- \\sqrt{2}}^{\\sqrt{2}} d{x}\\int_{- \\sqrt{2 - x^{2}}}^{\\sqrt{2 - x^{2}}} \\left.\\color{brown}{\\frac{z^{2}}{2} + z \\left(x + 2 y\\right)} \\right|_{0.707106781186548}^{\\sqrt{2}} d{y}\\cr&=&\\int_{- \\sqrt{2}}^{\\sqrt{2}}d{x}\\int_{- \\sqrt{2 - x^{2}}}^{\\sqrt{2 - x^{2}}} \\color{brown}{- 0.707106781186548 x - 1.4142135623731 y + \\sqrt{2} \\left(x + 2 y\\right) + 0.75}d{y}\\cr &=&\\int_{- \\sqrt{2}}^{\\sqrt{2}} \\left. \\color{brown}{y^{2} \\left(-0.707106781186548 + 1.0 \\sqrt{2}\\right) + y \\left(- 0.707106781186548 x + 1.0 \\sqrt{2} x + 0.75\\right)} \\right|_{- \\sqrt{2 - x^{2}}}^{\\sqrt{2 - x^{2}}} d{x}\\cr&=&\\int_{- \\sqrt{2}}^{\\sqrt{2}} \\color{brown}{2 \\sqrt{2 - x^{2}} \\left(- 0.707106781186548 x + 1.0 \\sqrt{2} x + 0.75\\right)}d{x}\\cr &=&\\left. \\color{brown}{- 0.471404520791032 x^{2} \\sqrt{2 - x^{2}} + 0.666666666666667 \\sqrt{2} x^{2} \\sqrt{2 - x^{2}} + 0.75 x \\sqrt{2 - x^{2}} - 1.33333333333333 \\sqrt{2} \\sqrt{2 - x^{2}} + 0.942809041582063 \\sqrt{2 - x^{2}} + 1.5 \\operatorname{asin}{\\left(\\frac{\\sqrt{2} x}{2} \\right)}} \\right|_{- \\sqrt{2}}^{\\sqrt{2}}\\cr&=&1.5 \\pi\\end{eqnarray}"
          },
          "metadata": {},
          "execution_count": 14
        }
      ]
    }
  ]
}